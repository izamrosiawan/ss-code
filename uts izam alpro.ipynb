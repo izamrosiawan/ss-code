{
 "cells": [
  {
   "cell_type": "markdown",
   "metadata": {},
   "source": [
    "#UTS IZAM ROSIAWAN 08 - NOVEMBER - 2024"
   ]
  },
  {
   "cell_type": "code",
   "execution_count": null,
   "metadata": {},
   "outputs": [
    {
     "name": "stdout",
     "output_type": "stream",
     "text": [
      "mendapatkan uang saku $20 per minggu\n",
      "mendapatkan uang saku $10 per minggu\n",
      "mendapatkan uang saku $20 per minggu\n",
      "mendapatkan uang saku $10 per minggu\n",
      "mendapatkan uang saku $10 per minggu\n",
      "mendapatkan uang saku $10 per minggu\n",
      "mendapatkan uang saku $20 per minggu\n",
      "mendapatkan uang saku $15 per minggu\n",
      "Total uang saku anak keluarga Wijaya adalah $115\n"
     ]
    }
   ],
   "source": [
    "umur_anak = [8, 12, 9, 16, 14, 16, 4, 10]\n",
    "total_uang_saku = 0\n",
    "\n",
    "for i in umur_anak:\n",
    "     if  i > 10:\n",
    "          total_uang_saku += 10\n",
    "          print(\"mendapatkan uang saku $10 per minggu\")\n",
    "     elif 10  <= i <= 15:\n",
    "          total_uang_saku += 15\n",
    "          print(\"mendapatkan uang saku $15 per minggu\")\n",
    "     elif i < 15:\n",
    "          total_uang_saku += 20\n",
    "          print(\"mendapatkan uang saku $20 per minggu\")\n",
    "\n",
    "print(f\"Total uang saku anak keluarga Wijaya adalah ${total_uang_saku}\")\n",
    "\n"
   ]
  },
  {
   "cell_type": "code",
   "execution_count": 2,
   "metadata": {},
   "outputs": [],
   "source": [
    "#Soal:\n",
    "# Sebuah toko buah menjual berbagai jenis buah dengan harga yang berbeda-beda. \n",
    "# Harga per kilogram untuk masing-masing buah adalah:\n",
    "# - Apel: Rp 25.000\n",
    "# - Pisang: Rp 20.000 \n",
    "# - Jeruk: Rp 30.000\n",
    "# - Mangga: Rp 35.000\n",
    "\n",
    "# Buatlah program yang dapat menghitung total harga pembelian berdasarkan jenis buah dan jumlah yang dibeli.\n",
    "# Program akan meminta input jenis buah dan jumlah pembelian, lalu menampilkan total harga.\n"
   ]
  },
  {
   "cell_type": "code",
   "execution_count": 2,
   "metadata": {},
   "outputs": [
    {
     "name": "stdout",
     "output_type": "stream",
     "text": [
      "Buah pisang, 6kg seharga 120000\n"
     ]
    }
   ],
   "source": [
    "#Soal:\n",
    "# Sebuah toko buah menjual berbagai jenis buah dengan harga yang berbeda-beda. \n",
    "# Harga per kilogram untuk masing-masing buah adalah:\n",
    "# - Apel: Rp 25.000\n",
    "# - Pisang: Rp 20.000 \n",
    "# - Jeruk: Rp 30.000\n",
    "# - Mangga: Rp 35.000\n",
    "\n",
    "# Buatlah program yang dapat menghitung total harga pembelian berdasarkan jenis buah dan jumlah yang dibeli.\n",
    "# Program akan meminta input jenis buah dan jumlah pembelian, lalu menampilkan total harga.\n",
    "\n",
    "jenis_buah = input(\"Masukan jenis buah yang ingin anda beli: \")\n",
    "jumlah_beli = int(input(\"Masukan jumlah buah yang ingin anda beli dalam kg: \"))\n",
    "total = 0\n",
    "\n",
    "if jenis_buah == \"apel\":\n",
    "     total = jumlah_beli * 25000\n",
    "     print(f\"Buah {jenis_buah}, {jumlah_beli}kg seharga {total}\")\n",
    "elif jenis_buah == \"pisang\":\n",
    "     total = jumlah_beli * 20000\n",
    "     print(f\"Buah {jenis_buah}, {jumlah_beli}kg seharga {total}\")\n",
    "elif jenis_buah == \"jeruk\":\n",
    "     total = jumlah_beli * 30000\n",
    "     print(f\"Buah {jenis_buah}, {jumlah_beli}kg seharga {total}\")\n",
    "elif jenis_buah == \"mangga\":\n",
    "     total = jumlah_beli * 35000\n",
    "     print(f\"Buah {jenis_buah}, {jumlah_beli}kg seharga {total}\")\n",
    "else:\n",
    "     print(\"Buah yang anda inginkan tidak ada\")"
   ]
  },
  {
   "cell_type": "code",
   "execution_count": null,
   "metadata": {},
   "outputs": [],
   "source": []
  }
 ],
 "metadata": {
  "kernelspec": {
   "display_name": "Python 3",
   "language": "python",
   "name": "python3"
  },
  "language_info": {
   "codemirror_mode": {
    "name": "ipython",
    "version": 3
   },
   "file_extension": ".py",
   "mimetype": "text/x-python",
   "name": "python",
   "nbconvert_exporter": "python",
   "pygments_lexer": "ipython3",
   "version": "3.11.9"
  }
 },
 "nbformat": 4,
 "nbformat_minor": 2
}
